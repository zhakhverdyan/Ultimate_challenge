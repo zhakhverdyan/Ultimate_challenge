{
 "cells": [
  {
   "cell_type": "code",
   "execution_count": 1,
   "metadata": {},
   "outputs": [
    {
     "data": {
      "text/html": [
       "<div>\n",
       "<style scoped>\n",
       "    .dataframe tbody tr th:only-of-type {\n",
       "        vertical-align: middle;\n",
       "    }\n",
       "\n",
       "    .dataframe tbody tr th {\n",
       "        vertical-align: top;\n",
       "    }\n",
       "\n",
       "    .dataframe thead th {\n",
       "        text-align: right;\n",
       "    }\n",
       "</style>\n",
       "<table border=\"1\" class=\"dataframe\">\n",
       "  <thead>\n",
       "    <tr style=\"text-align: right;\">\n",
       "      <th></th>\n",
       "      <th>city</th>\n",
       "      <th>trips_in_first_30_days</th>\n",
       "      <th>signup_date</th>\n",
       "      <th>avg_rating_of_driver</th>\n",
       "      <th>avg_surge</th>\n",
       "      <th>last_trip_date</th>\n",
       "      <th>phone</th>\n",
       "      <th>surge_pct</th>\n",
       "      <th>ultimate_black_user</th>\n",
       "      <th>weekday_pct</th>\n",
       "      <th>avg_dist</th>\n",
       "      <th>avg_rating_by_driver</th>\n",
       "    </tr>\n",
       "  </thead>\n",
       "  <tbody>\n",
       "    <tr>\n",
       "      <th>0</th>\n",
       "      <td>King's Landing</td>\n",
       "      <td>4</td>\n",
       "      <td>2014-01-25</td>\n",
       "      <td>4.7</td>\n",
       "      <td>1.10</td>\n",
       "      <td>2014-06-17</td>\n",
       "      <td>iPhone</td>\n",
       "      <td>15.4</td>\n",
       "      <td>True</td>\n",
       "      <td>46.2</td>\n",
       "      <td>3.67</td>\n",
       "      <td>5.0</td>\n",
       "    </tr>\n",
       "    <tr>\n",
       "      <th>1</th>\n",
       "      <td>Astapor</td>\n",
       "      <td>0</td>\n",
       "      <td>2014-01-29</td>\n",
       "      <td>5.0</td>\n",
       "      <td>1.00</td>\n",
       "      <td>2014-05-05</td>\n",
       "      <td>Android</td>\n",
       "      <td>0.0</td>\n",
       "      <td>False</td>\n",
       "      <td>50.0</td>\n",
       "      <td>8.26</td>\n",
       "      <td>5.0</td>\n",
       "    </tr>\n",
       "    <tr>\n",
       "      <th>2</th>\n",
       "      <td>Astapor</td>\n",
       "      <td>3</td>\n",
       "      <td>2014-01-06</td>\n",
       "      <td>4.3</td>\n",
       "      <td>1.00</td>\n",
       "      <td>2014-01-07</td>\n",
       "      <td>iPhone</td>\n",
       "      <td>0.0</td>\n",
       "      <td>False</td>\n",
       "      <td>100.0</td>\n",
       "      <td>0.77</td>\n",
       "      <td>5.0</td>\n",
       "    </tr>\n",
       "    <tr>\n",
       "      <th>3</th>\n",
       "      <td>King's Landing</td>\n",
       "      <td>9</td>\n",
       "      <td>2014-01-10</td>\n",
       "      <td>4.6</td>\n",
       "      <td>1.14</td>\n",
       "      <td>2014-06-29</td>\n",
       "      <td>iPhone</td>\n",
       "      <td>20.0</td>\n",
       "      <td>True</td>\n",
       "      <td>80.0</td>\n",
       "      <td>2.36</td>\n",
       "      <td>4.9</td>\n",
       "    </tr>\n",
       "    <tr>\n",
       "      <th>4</th>\n",
       "      <td>Winterfell</td>\n",
       "      <td>14</td>\n",
       "      <td>2014-01-27</td>\n",
       "      <td>4.4</td>\n",
       "      <td>1.19</td>\n",
       "      <td>2014-03-15</td>\n",
       "      <td>Android</td>\n",
       "      <td>11.8</td>\n",
       "      <td>False</td>\n",
       "      <td>82.4</td>\n",
       "      <td>3.13</td>\n",
       "      <td>4.9</td>\n",
       "    </tr>\n",
       "  </tbody>\n",
       "</table>\n",
       "</div>"
      ],
      "text/plain": [
       "             city  trips_in_first_30_days signup_date  avg_rating_of_driver  \\\n",
       "0  King's Landing                       4  2014-01-25                   4.7   \n",
       "1         Astapor                       0  2014-01-29                   5.0   \n",
       "2         Astapor                       3  2014-01-06                   4.3   \n",
       "3  King's Landing                       9  2014-01-10                   4.6   \n",
       "4      Winterfell                      14  2014-01-27                   4.4   \n",
       "\n",
       "   avg_surge last_trip_date    phone  surge_pct  ultimate_black_user  \\\n",
       "0       1.10     2014-06-17   iPhone       15.4                 True   \n",
       "1       1.00     2014-05-05  Android        0.0                False   \n",
       "2       1.00     2014-01-07   iPhone        0.0                False   \n",
       "3       1.14     2014-06-29   iPhone       20.0                 True   \n",
       "4       1.19     2014-03-15  Android       11.8                False   \n",
       "\n",
       "   weekday_pct  avg_dist  avg_rating_by_driver  \n",
       "0         46.2      3.67                   5.0  \n",
       "1         50.0      8.26                   5.0  \n",
       "2        100.0      0.77                   5.0  \n",
       "3         80.0      2.36                   4.9  \n",
       "4         82.4      3.13                   4.9  "
      ]
     },
     "execution_count": 1,
     "metadata": {},
     "output_type": "execute_result"
    }
   ],
   "source": [
    "import pandas as pd\n",
    "df = pd.read_json('ultimate_data_challenge.json')\n",
    "df.head()"
   ]
  },
  {
   "cell_type": "code",
   "execution_count": 2,
   "metadata": {},
   "outputs": [
    {
     "data": {
      "text/html": [
       "<div>\n",
       "<style scoped>\n",
       "    .dataframe tbody tr th:only-of-type {\n",
       "        vertical-align: middle;\n",
       "    }\n",
       "\n",
       "    .dataframe tbody tr th {\n",
       "        vertical-align: top;\n",
       "    }\n",
       "\n",
       "    .dataframe thead th {\n",
       "        text-align: right;\n",
       "    }\n",
       "</style>\n",
       "<table border=\"1\" class=\"dataframe\">\n",
       "  <thead>\n",
       "    <tr style=\"text-align: right;\">\n",
       "      <th></th>\n",
       "      <th>trips_in_first_30_days</th>\n",
       "      <th>avg_rating_of_driver</th>\n",
       "      <th>avg_surge</th>\n",
       "      <th>surge_pct</th>\n",
       "      <th>weekday_pct</th>\n",
       "      <th>avg_dist</th>\n",
       "      <th>avg_rating_by_driver</th>\n",
       "    </tr>\n",
       "  </thead>\n",
       "  <tbody>\n",
       "    <tr>\n",
       "      <th>count</th>\n",
       "      <td>50000.000000</td>\n",
       "      <td>41878.000000</td>\n",
       "      <td>50000.000000</td>\n",
       "      <td>50000.000000</td>\n",
       "      <td>50000.000000</td>\n",
       "      <td>50000.000000</td>\n",
       "      <td>49799.000000</td>\n",
       "    </tr>\n",
       "    <tr>\n",
       "      <th>mean</th>\n",
       "      <td>2.278200</td>\n",
       "      <td>4.601559</td>\n",
       "      <td>1.074764</td>\n",
       "      <td>8.849536</td>\n",
       "      <td>60.926084</td>\n",
       "      <td>5.796827</td>\n",
       "      <td>4.778158</td>\n",
       "    </tr>\n",
       "    <tr>\n",
       "      <th>std</th>\n",
       "      <td>3.792684</td>\n",
       "      <td>0.617338</td>\n",
       "      <td>0.222336</td>\n",
       "      <td>19.958811</td>\n",
       "      <td>37.081503</td>\n",
       "      <td>5.707357</td>\n",
       "      <td>0.446652</td>\n",
       "    </tr>\n",
       "    <tr>\n",
       "      <th>min</th>\n",
       "      <td>0.000000</td>\n",
       "      <td>1.000000</td>\n",
       "      <td>1.000000</td>\n",
       "      <td>0.000000</td>\n",
       "      <td>0.000000</td>\n",
       "      <td>0.000000</td>\n",
       "      <td>1.000000</td>\n",
       "    </tr>\n",
       "    <tr>\n",
       "      <th>25%</th>\n",
       "      <td>0.000000</td>\n",
       "      <td>4.300000</td>\n",
       "      <td>1.000000</td>\n",
       "      <td>0.000000</td>\n",
       "      <td>33.300000</td>\n",
       "      <td>2.420000</td>\n",
       "      <td>4.700000</td>\n",
       "    </tr>\n",
       "    <tr>\n",
       "      <th>50%</th>\n",
       "      <td>1.000000</td>\n",
       "      <td>4.900000</td>\n",
       "      <td>1.000000</td>\n",
       "      <td>0.000000</td>\n",
       "      <td>66.700000</td>\n",
       "      <td>3.880000</td>\n",
       "      <td>5.000000</td>\n",
       "    </tr>\n",
       "    <tr>\n",
       "      <th>75%</th>\n",
       "      <td>3.000000</td>\n",
       "      <td>5.000000</td>\n",
       "      <td>1.050000</td>\n",
       "      <td>8.600000</td>\n",
       "      <td>100.000000</td>\n",
       "      <td>6.940000</td>\n",
       "      <td>5.000000</td>\n",
       "    </tr>\n",
       "    <tr>\n",
       "      <th>max</th>\n",
       "      <td>125.000000</td>\n",
       "      <td>5.000000</td>\n",
       "      <td>8.000000</td>\n",
       "      <td>100.000000</td>\n",
       "      <td>100.000000</td>\n",
       "      <td>160.960000</td>\n",
       "      <td>5.000000</td>\n",
       "    </tr>\n",
       "  </tbody>\n",
       "</table>\n",
       "</div>"
      ],
      "text/plain": [
       "       trips_in_first_30_days  avg_rating_of_driver     avg_surge  \\\n",
       "count            50000.000000          41878.000000  50000.000000   \n",
       "mean                 2.278200              4.601559      1.074764   \n",
       "std                  3.792684              0.617338      0.222336   \n",
       "min                  0.000000              1.000000      1.000000   \n",
       "25%                  0.000000              4.300000      1.000000   \n",
       "50%                  1.000000              4.900000      1.000000   \n",
       "75%                  3.000000              5.000000      1.050000   \n",
       "max                125.000000              5.000000      8.000000   \n",
       "\n",
       "          surge_pct   weekday_pct      avg_dist  avg_rating_by_driver  \n",
       "count  50000.000000  50000.000000  50000.000000          49799.000000  \n",
       "mean       8.849536     60.926084      5.796827              4.778158  \n",
       "std       19.958811     37.081503      5.707357              0.446652  \n",
       "min        0.000000      0.000000      0.000000              1.000000  \n",
       "25%        0.000000     33.300000      2.420000              4.700000  \n",
       "50%        0.000000     66.700000      3.880000              5.000000  \n",
       "75%        8.600000    100.000000      6.940000              5.000000  \n",
       "max      100.000000    100.000000    160.960000              5.000000  "
      ]
     },
     "execution_count": 2,
     "metadata": {},
     "output_type": "execute_result"
    }
   ],
   "source": [
    "df.describe()"
   ]
  },
  {
   "cell_type": "code",
   "execution_count": 3,
   "metadata": {},
   "outputs": [
    {
     "name": "stdout",
     "output_type": "stream",
     "text": [
      "<class 'pandas.core.frame.DataFrame'>\n",
      "RangeIndex: 50000 entries, 0 to 49999\n",
      "Data columns (total 12 columns):\n",
      " #   Column                  Non-Null Count  Dtype  \n",
      "---  ------                  --------------  -----  \n",
      " 0   city                    50000 non-null  object \n",
      " 1   trips_in_first_30_days  50000 non-null  int64  \n",
      " 2   signup_date             50000 non-null  object \n",
      " 3   avg_rating_of_driver    41878 non-null  float64\n",
      " 4   avg_surge               50000 non-null  float64\n",
      " 5   last_trip_date          50000 non-null  object \n",
      " 6   phone                   49604 non-null  object \n",
      " 7   surge_pct               50000 non-null  float64\n",
      " 8   ultimate_black_user     50000 non-null  bool   \n",
      " 9   weekday_pct             50000 non-null  float64\n",
      " 10  avg_dist                50000 non-null  float64\n",
      " 11  avg_rating_by_driver    49799 non-null  float64\n",
      "dtypes: bool(1), float64(6), int64(1), object(4)\n",
      "memory usage: 4.2+ MB\n"
     ]
    }
   ],
   "source": [
    "df.info()"
   ]
  },
  {
   "cell_type": "code",
   "execution_count": 13,
   "metadata": {},
   "outputs": [
    {
     "name": "stdout",
     "output_type": "stream",
     "text": [
      "<class 'pandas.core.frame.DataFrame'>\n",
      "RangeIndex: 50000 entries, 0 to 49999\n",
      "Data columns (total 12 columns):\n",
      " #   Column                  Non-Null Count  Dtype         \n",
      "---  ------                  --------------  -----         \n",
      " 0   city                    50000 non-null  object        \n",
      " 1   trips_in_first_30_days  50000 non-null  int64         \n",
      " 2   signup_date             50000 non-null  datetime64[ns]\n",
      " 3   avg_rating_of_driver    41878 non-null  float64       \n",
      " 4   avg_surge               50000 non-null  float64       \n",
      " 5   last_trip_date          50000 non-null  datetime64[ns]\n",
      " 6   phone                   49604 non-null  object        \n",
      " 7   surge_pct               50000 non-null  float64       \n",
      " 8   ultimate_black_user     50000 non-null  bool          \n",
      " 9   weekday_pct             50000 non-null  float64       \n",
      " 10  avg_dist                50000 non-null  float64       \n",
      " 11  avg_rating_by_driver    49799 non-null  float64       \n",
      "dtypes: bool(1), datetime64[ns](2), float64(6), int64(1), object(2)\n",
      "memory usage: 4.2+ MB\n"
     ]
    }
   ],
   "source": [
    "df['signup_date'] = pd.to_datetime(df['signup_date'], infer_datetime_format=True)\n",
    "df['last_trip_date'] = pd.to_datetime(df['last_trip_date'], infer_datetime_format=True)\n",
    "df.info()"
   ]
  },
  {
   "cell_type": "code",
   "execution_count": 12,
   "metadata": {},
   "outputs": [
    {
     "data": {
      "text/html": [
       "<div>\n",
       "<style scoped>\n",
       "    .dataframe tbody tr th:only-of-type {\n",
       "        vertical-align: middle;\n",
       "    }\n",
       "\n",
       "    .dataframe tbody tr th {\n",
       "        vertical-align: top;\n",
       "    }\n",
       "\n",
       "    .dataframe thead th {\n",
       "        text-align: right;\n",
       "    }\n",
       "</style>\n",
       "<table border=\"1\" class=\"dataframe\">\n",
       "  <thead>\n",
       "    <tr style=\"text-align: right;\">\n",
       "      <th></th>\n",
       "      <th>city</th>\n",
       "      <th>trips_in_first_30_days</th>\n",
       "      <th>signup_date</th>\n",
       "      <th>avg_rating_of_driver</th>\n",
       "      <th>avg_surge</th>\n",
       "      <th>last_trip_date</th>\n",
       "      <th>phone</th>\n",
       "      <th>surge_pct</th>\n",
       "      <th>ultimate_black_user</th>\n",
       "      <th>weekday_pct</th>\n",
       "      <th>avg_dist</th>\n",
       "      <th>avg_rating_by_driver</th>\n",
       "    </tr>\n",
       "  </thead>\n",
       "  <tbody>\n",
       "    <tr>\n",
       "      <th>0</th>\n",
       "      <td>King's Landing</td>\n",
       "      <td>4</td>\n",
       "      <td>2014-01-25</td>\n",
       "      <td>4.7</td>\n",
       "      <td>1.10</td>\n",
       "      <td>2014-06-17</td>\n",
       "      <td>iPhone</td>\n",
       "      <td>15.4</td>\n",
       "      <td>True</td>\n",
       "      <td>46.2</td>\n",
       "      <td>3.67</td>\n",
       "      <td>5.0</td>\n",
       "    </tr>\n",
       "    <tr>\n",
       "      <th>1</th>\n",
       "      <td>Astapor</td>\n",
       "      <td>0</td>\n",
       "      <td>2014-01-29</td>\n",
       "      <td>5.0</td>\n",
       "      <td>1.00</td>\n",
       "      <td>2014-05-05</td>\n",
       "      <td>Android</td>\n",
       "      <td>0.0</td>\n",
       "      <td>False</td>\n",
       "      <td>50.0</td>\n",
       "      <td>8.26</td>\n",
       "      <td>5.0</td>\n",
       "    </tr>\n",
       "    <tr>\n",
       "      <th>2</th>\n",
       "      <td>Astapor</td>\n",
       "      <td>3</td>\n",
       "      <td>2014-01-06</td>\n",
       "      <td>4.3</td>\n",
       "      <td>1.00</td>\n",
       "      <td>2014-01-07</td>\n",
       "      <td>iPhone</td>\n",
       "      <td>0.0</td>\n",
       "      <td>False</td>\n",
       "      <td>100.0</td>\n",
       "      <td>0.77</td>\n",
       "      <td>5.0</td>\n",
       "    </tr>\n",
       "    <tr>\n",
       "      <th>3</th>\n",
       "      <td>King's Landing</td>\n",
       "      <td>9</td>\n",
       "      <td>2014-01-10</td>\n",
       "      <td>4.6</td>\n",
       "      <td>1.14</td>\n",
       "      <td>2014-06-29</td>\n",
       "      <td>iPhone</td>\n",
       "      <td>20.0</td>\n",
       "      <td>True</td>\n",
       "      <td>80.0</td>\n",
       "      <td>2.36</td>\n",
       "      <td>4.9</td>\n",
       "    </tr>\n",
       "    <tr>\n",
       "      <th>4</th>\n",
       "      <td>Winterfell</td>\n",
       "      <td>14</td>\n",
       "      <td>2014-01-27</td>\n",
       "      <td>4.4</td>\n",
       "      <td>1.19</td>\n",
       "      <td>2014-03-15</td>\n",
       "      <td>Android</td>\n",
       "      <td>11.8</td>\n",
       "      <td>False</td>\n",
       "      <td>82.4</td>\n",
       "      <td>3.13</td>\n",
       "      <td>4.9</td>\n",
       "    </tr>\n",
       "  </tbody>\n",
       "</table>\n",
       "</div>"
      ],
      "text/plain": [
       "             city  trips_in_first_30_days signup_date  avg_rating_of_driver  \\\n",
       "0  King's Landing                       4  2014-01-25                   4.7   \n",
       "1         Astapor                       0  2014-01-29                   5.0   \n",
       "2         Astapor                       3  2014-01-06                   4.3   \n",
       "3  King's Landing                       9  2014-01-10                   4.6   \n",
       "4      Winterfell                      14  2014-01-27                   4.4   \n",
       "\n",
       "   avg_surge last_trip_date    phone  surge_pct  ultimate_black_user  \\\n",
       "0       1.10     2014-06-17   iPhone       15.4                 True   \n",
       "1       1.00     2014-05-05  Android        0.0                False   \n",
       "2       1.00     2014-01-07   iPhone        0.0                False   \n",
       "3       1.14     2014-06-29   iPhone       20.0                 True   \n",
       "4       1.19     2014-03-15  Android       11.8                False   \n",
       "\n",
       "   weekday_pct  avg_dist  avg_rating_by_driver  \n",
       "0         46.2      3.67                   5.0  \n",
       "1         50.0      8.26                   5.0  \n",
       "2        100.0      0.77                   5.0  \n",
       "3         80.0      2.36                   4.9  \n",
       "4         82.4      3.13                   4.9  "
      ]
     },
     "execution_count": 12,
     "metadata": {},
     "output_type": "execute_result"
    }
   ],
   "source": [
    "df.head()"
   ]
  },
  {
   "cell_type": "code",
   "execution_count": 17,
   "metadata": {},
   "outputs": [
    {
     "data": {
      "text/html": [
       "<div>\n",
       "<style scoped>\n",
       "    .dataframe tbody tr th:only-of-type {\n",
       "        vertical-align: middle;\n",
       "    }\n",
       "\n",
       "    .dataframe tbody tr th {\n",
       "        vertical-align: top;\n",
       "    }\n",
       "\n",
       "    .dataframe thead th {\n",
       "        text-align: right;\n",
       "    }\n",
       "</style>\n",
       "<table border=\"1\" class=\"dataframe\">\n",
       "  <thead>\n",
       "    <tr style=\"text-align: right;\">\n",
       "      <th></th>\n",
       "      <th>city</th>\n",
       "      <th>trips_in_first_30_days</th>\n",
       "      <th>signup_date</th>\n",
       "      <th>avg_rating_of_driver</th>\n",
       "      <th>avg_surge</th>\n",
       "      <th>last_trip_date</th>\n",
       "      <th>phone</th>\n",
       "      <th>surge_pct</th>\n",
       "      <th>ultimate_black_user</th>\n",
       "      <th>weekday_pct</th>\n",
       "      <th>avg_dist</th>\n",
       "      <th>avg_rating_by_driver</th>\n",
       "      <th>days_since_last_trip</th>\n",
       "    </tr>\n",
       "  </thead>\n",
       "  <tbody>\n",
       "    <tr>\n",
       "      <th>0</th>\n",
       "      <td>King's Landing</td>\n",
       "      <td>4</td>\n",
       "      <td>2014-01-25</td>\n",
       "      <td>4.7</td>\n",
       "      <td>1.10</td>\n",
       "      <td>2014-06-17</td>\n",
       "      <td>iPhone</td>\n",
       "      <td>15.4</td>\n",
       "      <td>True</td>\n",
       "      <td>46.2</td>\n",
       "      <td>3.67</td>\n",
       "      <td>5.0</td>\n",
       "      <td>14</td>\n",
       "    </tr>\n",
       "    <tr>\n",
       "      <th>1</th>\n",
       "      <td>Astapor</td>\n",
       "      <td>0</td>\n",
       "      <td>2014-01-29</td>\n",
       "      <td>5.0</td>\n",
       "      <td>1.00</td>\n",
       "      <td>2014-05-05</td>\n",
       "      <td>Android</td>\n",
       "      <td>0.0</td>\n",
       "      <td>False</td>\n",
       "      <td>50.0</td>\n",
       "      <td>8.26</td>\n",
       "      <td>5.0</td>\n",
       "      <td>57</td>\n",
       "    </tr>\n",
       "    <tr>\n",
       "      <th>2</th>\n",
       "      <td>Astapor</td>\n",
       "      <td>3</td>\n",
       "      <td>2014-01-06</td>\n",
       "      <td>4.3</td>\n",
       "      <td>1.00</td>\n",
       "      <td>2014-01-07</td>\n",
       "      <td>iPhone</td>\n",
       "      <td>0.0</td>\n",
       "      <td>False</td>\n",
       "      <td>100.0</td>\n",
       "      <td>0.77</td>\n",
       "      <td>5.0</td>\n",
       "      <td>175</td>\n",
       "    </tr>\n",
       "    <tr>\n",
       "      <th>3</th>\n",
       "      <td>King's Landing</td>\n",
       "      <td>9</td>\n",
       "      <td>2014-01-10</td>\n",
       "      <td>4.6</td>\n",
       "      <td>1.14</td>\n",
       "      <td>2014-06-29</td>\n",
       "      <td>iPhone</td>\n",
       "      <td>20.0</td>\n",
       "      <td>True</td>\n",
       "      <td>80.0</td>\n",
       "      <td>2.36</td>\n",
       "      <td>4.9</td>\n",
       "      <td>2</td>\n",
       "    </tr>\n",
       "    <tr>\n",
       "      <th>4</th>\n",
       "      <td>Winterfell</td>\n",
       "      <td>14</td>\n",
       "      <td>2014-01-27</td>\n",
       "      <td>4.4</td>\n",
       "      <td>1.19</td>\n",
       "      <td>2014-03-15</td>\n",
       "      <td>Android</td>\n",
       "      <td>11.8</td>\n",
       "      <td>False</td>\n",
       "      <td>82.4</td>\n",
       "      <td>3.13</td>\n",
       "      <td>4.9</td>\n",
       "      <td>108</td>\n",
       "    </tr>\n",
       "  </tbody>\n",
       "</table>\n",
       "</div>"
      ],
      "text/plain": [
       "             city  trips_in_first_30_days signup_date  avg_rating_of_driver  \\\n",
       "0  King's Landing                       4  2014-01-25                   4.7   \n",
       "1         Astapor                       0  2014-01-29                   5.0   \n",
       "2         Astapor                       3  2014-01-06                   4.3   \n",
       "3  King's Landing                       9  2014-01-10                   4.6   \n",
       "4      Winterfell                      14  2014-01-27                   4.4   \n",
       "\n",
       "   avg_surge last_trip_date    phone  surge_pct  ultimate_black_user  \\\n",
       "0       1.10     2014-06-17   iPhone       15.4                 True   \n",
       "1       1.00     2014-05-05  Android        0.0                False   \n",
       "2       1.00     2014-01-07   iPhone        0.0                False   \n",
       "3       1.14     2014-06-29   iPhone       20.0                 True   \n",
       "4       1.19     2014-03-15  Android       11.8                False   \n",
       "\n",
       "   weekday_pct  avg_dist  avg_rating_by_driver  days_since_last_trip  \n",
       "0         46.2      3.67                   5.0                    14  \n",
       "1         50.0      8.26                   5.0                    57  \n",
       "2        100.0      0.77                   5.0                   175  \n",
       "3         80.0      2.36                   4.9                     2  \n",
       "4         82.4      3.13                   4.9                   108  "
      ]
     },
     "execution_count": 17,
     "metadata": {},
     "output_type": "execute_result"
    }
   ],
   "source": [
    "df['days_since_last_trip'] = (df.last_trip_date.max() - df['last_trip_date']).dt.days\n",
    "df.head()"
   ]
  },
  {
   "cell_type": "code",
   "execution_count": 205,
   "metadata": {},
   "outputs": [
    {
     "data": {
      "image/png": "[encoded data removed]",
      "text/plain": [
       "<Figure size 432x288 with 1 Axes>"
      ]
     },
     "metadata": {
      "needs_background": "light"
     },
     "output_type": "display_data"
    }
   ],
   "source": [
    "df.days_since_last_trip.hist(bins=6)\n",
    "plt.xlabel('Days since last trip')\n",
    "plt.ylabel('Count')\n",
    "plt.title('Distribution of days when the last trip was taken');"
   ]
  },
  {
   "cell_type": "markdown",
   "metadata": {},
   "source": [
    "The first tall column is the active subscribers. The last bin are the customers that dropped off within the first month, which is the largest amount."
   ]
  },
  {
   "cell_type": "code",
   "execution_count": 202,
   "metadata": {},
   "outputs": [
    {
     "data": {
      "text/plain": [
       "31200.0"
      ]
     },
     "execution_count": 202,
     "metadata": {},
     "output_type": "execute_result"
    }
   ],
   "source": [
    "# about half of the subscribers were not active in the last month\n",
    "# subset the dataset and see if there is a trend\n",
    "df[df[last_trip_date]>='2014-06-17']"
   ]
  },
  {
   "cell_type": "code",
   "execution_count": 18,
   "metadata": {},
   "outputs": [
    {
     "name": "stdout",
     "output_type": "stream",
     "text": [
      "Fraction active: 0.376\n"
     ]
    }
   ],
   "source": [
    "df.loc[df['days_since_last_trip']<=30, 'active'] = 1\n",
    "df.loc[df['days_since_last_trip']>30, 'active'] = 0\n",
    "print(\"Fraction active:\", round(df['active'].sum()/len(df), 3))"
   ]
  },
  {
   "cell_type": "code",
   "execution_count": 21,
   "metadata": {},
   "outputs": [
    {
     "data": {
      "text/plain": [
       "<matplotlib.axes._subplots.AxesSubplot at 0x1267ce040>"
      ]
     },
     "execution_count": 21,
     "metadata": {},
     "output_type": "execute_result"
    },
    {
     "data": {
      "image/png": "[encoded data removed]",
      "text/plain": [
       "<Figure size 432x288 with 1 Axes>"
      ]
     },
     "metadata": {
      "needs_background": "light"
     },
     "output_type": "display_data"
    }
   ],
   "source": [
    "df.groupby(['city','active'])['active'].count().unstack(level=0).plot(kind='bar')"
   ]
  },
  {
   "cell_type": "markdown",
   "metadata": {},
   "source": [
    "The city does seam to matter."
   ]
  },
  {
   "cell_type": "code",
   "execution_count": 50,
   "metadata": {},
   "outputs": [
    {
     "data": {
      "image/png": "[encoded data removed]",
      "text/plain": [
       "<Figure size 432x288 with 1 Axes>"
      ]
     },
     "metadata": {
      "needs_background": "light"
     },
     "output_type": "display_data"
    }
   ],
   "source": [
    "import matplotlib.pyplot as plt\n",
    "ave_rating_sum = df.groupby(['avg_rating_of_driver','active'])['active'].count().unstack(level=1)\n",
    "plt.plot(ave_rating_sum[0.0], label='Inactive')\n",
    "plt.plot(ave_rating_sum[1.0], label='Active')\n",
    "plt.title('Average rating of driver')\n",
    "plt.legend();"
   ]
  },
  {
   "cell_type": "code",
   "execution_count": 51,
   "metadata": {},
   "outputs": [
    {
     "data": {
      "image/png": "[encoded data removed]",
      "text/plain": [
       "<Figure size 432x288 with 1 Axes>"
      ]
     },
     "metadata": {
      "needs_background": "light"
     },
     "output_type": "display_data"
    }
   ],
   "source": [
    "ave_rating_sum = df.groupby(['avg_rating_by_driver','active'])['active'].count().unstack(level=1)\n",
    "plt.plot(ave_rating_sum[0.0], label='Inactive')\n",
    "plt.plot(ave_rating_sum[1.0], label='Active')\n",
    "plt.title('Average rating by the driver')\n",
    "plt.legend();"
   ]
  },
  {
   "cell_type": "code",
   "execution_count": 65,
   "metadata": {},
   "outputs": [
    {
     "data": {
      "image/png": "[encoded data removed]",
      "text/plain": [
       "<Figure size 432x288 with 1 Axes>"
      ]
     },
     "metadata": {
      "needs_background": "light"
     },
     "output_type": "display_data"
    }
   ],
   "source": [
    "init_trips_0 = df[df['active']==0].groupby('trips_in_first_30_days')['trips_in_first_30_days'].agg('count').sort_index()\n",
    "init_trips_0_cdf = init_trips_0.cumsum()\n",
    "init_trips_0_cdf = init_trips_0_cdf/init_trips_0_cdf.max()\n",
    "init_trips_1 = df[df['active']==1].groupby('trips_in_first_30_days')['trips_in_first_30_days'].agg('count').sort_index()\n",
    "init_trips_1_cdf = init_trips_1.cumsum()\n",
    "init_trips_1_cdf = init_trips_1_cdf/init_trips_1_cdf.max()\n",
    "plt.plot(init_trips_0_cdf, label='inactive')\n",
    "plt.plot(init_trips_1_cdf, label='active')\n",
    "plt.xlabel('Number of trips in the first 30 days')\n",
    "plt.ylabel('CDF')\n",
    "plt.title('Cumulative distribution of trips taken in the first 30 days of subscription')\n",
    "plt.legend();"
   ]
  },
  {
   "cell_type": "markdown",
   "metadata": {},
   "source": [
    "active users take more rides in the first 30 days."
   ]
  },
  {
   "cell_type": "code",
   "execution_count": 63,
   "metadata": {},
   "outputs": [
    {
     "data": {
      "text/plain": [
       "trips_in_first_30_days\n",
       "0    0.314463\n",
       "1    0.666528\n",
       "2    0.815874\n",
       "3    0.883030\n",
       "Name: trips_in_first_30_days, dtype: float64"
      ]
     },
     "execution_count": 63,
     "metadata": {},
     "output_type": "execute_result"
    }
   ],
   "source": [
    "init_trips_0_cdf[init_trips_0_cdf<=0.9]"
   ]
  },
  {
   "cell_type": "code",
   "execution_count": 64,
   "metadata": {},
   "outputs": [
    {
     "data": {
      "text/plain": [
       "trips_in_first_30_days\n",
       "0    0.296745\n",
       "1    0.462933\n",
       "2    0.608807\n",
       "3    0.698841\n",
       "4    0.768666\n",
       "5    0.817911\n",
       "6    0.852850\n",
       "7    0.878802\n",
       "8    0.899489\n",
       "Name: trips_in_first_30_days, dtype: float64"
      ]
     },
     "execution_count": 64,
     "metadata": {},
     "output_type": "execute_result"
    }
   ],
   "source": [
    "init_trips_1_cdf[init_trips_1_cdf<=0.9]"
   ]
  },
  {
   "cell_type": "code",
   "execution_count": 66,
   "metadata": {},
   "outputs": [
    {
     "data": {
      "image/png": "[encoded data removed]",
      "text/plain": [
       "<Figure size 432x288 with 1 Axes>"
      ]
     },
     "metadata": {
      "needs_background": "light"
     },
     "output_type": "display_data"
    }
   ],
   "source": [
    "init_trips_0 = df[df['active']==0].groupby('avg_surge')['avg_surge'].agg('count').sort_index()\n",
    "init_trips_0_cdf = init_trips_0.cumsum()\n",
    "init_trips_0_cdf = init_trips_0_cdf/init_trips_0_cdf.max()\n",
    "init_trips_1 = df[df['active']==1].groupby('avg_surge')['avg_surge'].agg('count').sort_index()\n",
    "init_trips_1_cdf = init_trips_1.cumsum()\n",
    "init_trips_1_cdf = init_trips_1_cdf/init_trips_1_cdf.max()\n",
    "plt.plot(init_trips_0_cdf, label='inactive')\n",
    "plt.plot(init_trips_1_cdf, label='active')\n",
    "plt.xlabel('Average surcharge multiplier')\n",
    "plt.ylabel('CDF')\n",
    "plt.title('Cumulative distribution of average surcharge multiplier')\n",
    "plt.legend();"
   ]
  },
  {
   "cell_type": "code",
   "execution_count": 70,
   "metadata": {},
   "outputs": [
    {
     "data": {
      "image/png": "[encoded data removed]",
      "text/plain": [
       "<Figure size 432x288 with 1 Axes>"
      ]
     },
     "metadata": {
      "needs_background": "light"
     },
     "output_type": "display_data"
    }
   ],
   "source": [
    "plt.scatter(init_trips_0.index, init_trips_0, alpha=0.5, label='inactive')\n",
    "plt.scatter(init_trips_1.index, init_trips_1, alpha=0.5, label='active')\n",
    "plt.legend()\n",
    "plt.xlabel('Aveerage surcharge multiplier')\n",
    "plt.ylabel('Count')\n",
    "plt.title('Distribution of surcharge multipler counts');"
   ]
  },
  {
   "cell_type": "code",
   "execution_count": 55,
   "metadata": {},
   "outputs": [
    {
     "data": {
      "image/png": "[encoded data removed]",
      "text/plain": [
       "<Figure size 432x288 with 1 Axes>"
      ]
     },
     "metadata": {
      "needs_background": "light"
     },
     "output_type": "display_data"
    }
   ],
   "source": [
    "init_trips_0 = df[df['active']==0].groupby('surge_pct')['surge_pct'].agg('count').sort_index()\n",
    "init_trips_0_cdf = init_trips_0.cumsum()\n",
    "init_trips_0_cdf = init_trips_0_cdf/init_trips_0_cdf.max()\n",
    "init_trips_1 = df[df['active']==1].groupby('surge_pct')['surge_pct'].agg('count').sort_index()\n",
    "init_trips_1_cdf = init_trips_1.cumsum()\n",
    "init_trips_1_cdf = init_trips_1_cdf/init_trips_1_cdf.max()\n",
    "plt.plot(init_trips_0_cdf, label='inactive')\n",
    "plt.plot(init_trips_1_cdf, label='active')\n",
    "plt.xlabel('percent of trips taken with surge multiplier > 1')\n",
    "plt.ylabel('CDF')\n",
    "plt.legend();"
   ]
  },
  {
   "cell_type": "markdown",
   "metadata": {},
   "source": [
    "Incative users took more trips with higher surcharge."
   ]
  },
  {
   "cell_type": "code",
   "execution_count": 53,
   "metadata": {},
   "outputs": [
    {
     "data": {
      "text/plain": [
       "<matplotlib.axes._subplots.AxesSubplot at 0x1279d9b80>"
      ]
     },
     "execution_count": 53,
     "metadata": {},
     "output_type": "execute_result"
    },
    {
     "data": {
      "image/png": "[encoded data removed]",
      "text/plain": [
       "<Figure size 432x288 with 1 Axes>"
      ]
     },
     "metadata": {
      "needs_background": "light"
     },
     "output_type": "display_data"
    }
   ],
   "source": [
    "df.groupby(['phone','active'])['active'].count().unstack(level=0).plot(kind='bar')"
   ]
  },
  {
   "cell_type": "code",
   "execution_count": 73,
   "metadata": {},
   "outputs": [
    {
     "name": "stdout",
     "output_type": "stream",
     "text": [
      "Inactive Android user fraction 0.7905738250565837\n",
      "Active Android user fraction 0.2094261749434163\n",
      "Inactive iPhone user fraction 0.5510670290902782\n",
      "Active iPhone user fraction 0.44893297090972184\n"
     ]
    }
   ],
   "source": [
    "dev_summary = df.groupby(['phone','active'])['active'].count()\n",
    "print('Inactive Android user fraction', dev_summary.loc['Android',0.0]/(dev_summary.loc['Android',0.0]+dev_summary.loc['Android',1.0]))\n",
    "print('Active Android user fraction', dev_summary.loc['Android',1.0]/(dev_summary.loc['Android',0.0]+dev_summary.loc['Android',1.0]))\n",
    "print('Inactive iPhone user fraction', dev_summary.loc['iPhone',0.0]/(dev_summary.loc['iPhone',0.0]+dev_summary.loc['iPhone',1.0]))\n",
    "print('Active iPhone user fraction', dev_summary.loc['iPhone',1.0]/(dev_summary.loc['iPhone',0.0]+dev_summary.loc['iPhone',1.0]))"
   ]
  },
  {
   "cell_type": "markdown",
   "metadata": {},
   "source": [
    "iPhone users more likely to be active than Android users."
   ]
  },
  {
   "cell_type": "code",
   "execution_count": 56,
   "metadata": {},
   "outputs": [
    {
     "data": {
      "text/plain": [
       "ultimate_black_user  active\n",
       "False                0.0       21839\n",
       "                     1.0        9307\n",
       "True                 0.0        9357\n",
       "                     1.0        9497\n",
       "Name: active, dtype: int64"
      ]
     },
     "execution_count": 56,
     "metadata": {},
     "output_type": "execute_result"
    }
   ],
   "source": [
    "df.groupby(['ultimate_black_user', 'active'])['active'].count()"
   ]
  },
  {
   "cell_type": "code",
   "execution_count": 74,
   "metadata": {},
   "outputs": [
    {
     "name": "stdout",
     "output_type": "stream",
     "text": [
      "0.7011815321389585\n",
      "0.29881846786104155\n",
      "0.4962872599978784\n",
      "0.5037127400021215\n"
     ]
    }
   ],
   "source": [
    "ult_black_summary = df.groupby(['ultimate_black_user', 'active'])['active'].count()\n",
    "print(ult_black_summary.loc[False, 0.0]/(ult_black_summary.loc[False, 0.0]+ult_black_summary.loc[False, 1.0]))\n",
    "print(ult_black_summary.loc[False, 1.0]/(ult_black_summary.loc[False, 0.0]+ult_black_summary.loc[False, 1.0]))\n",
    "print(ult_black_summary.loc[True, 0.0]/(ult_black_summary.loc[True, 0.0]+ult_black_summary.loc[True, 1.0]))\n",
    "print(ult_black_summary.loc[True, 1.0]/(ult_black_summary.loc[True, 0.0]+ult_black_summary.loc[True, 1.0]))"
   ]
  },
  {
   "cell_type": "markdown",
   "metadata": {},
   "source": [
    "~ 50% of active users are ultimate black users, while ~30% of inactive users are ultimate black users. So this status seams important."
   ]
  },
  {
   "cell_type": "code",
   "execution_count": 57,
   "metadata": {},
   "outputs": [
    {
     "data": {
      "image/png": "[encoded data removed]",
      "text/plain": [
       "<Figure size 432x288 with 1 Axes>"
      ]
     },
     "metadata": {
      "needs_background": "light"
     },
     "output_type": "display_data"
    }
   ],
   "source": [
    "init_trips_0 = df[df['active']==0].groupby('weekday_pct')['weekday_pct'].agg('count').sort_index()\n",
    "init_trips_0_cdf = init_trips_0.cumsum()\n",
    "init_trips_0_cdf = init_trips_0_cdf/init_trips_0_cdf.max()\n",
    "init_trips_1 = df[df['active']==1].groupby('weekday_pct')['weekday_pct'].agg('count').sort_index()\n",
    "init_trips_1_cdf = init_trips_1.cumsum()\n",
    "init_trips_1_cdf = init_trips_1_cdf/init_trips_1_cdf.max()\n",
    "plt.plot(init_trips_0_cdf, label='inactive')\n",
    "plt.plot(init_trips_1_cdf, label='active')\n",
    "plt.xlabel('percent of trips occurring during a weekday')\n",
    "plt.ylabel('CDF')\n",
    "plt.legend();"
   ]
  },
  {
   "cell_type": "code",
   "execution_count": 58,
   "metadata": {},
   "outputs": [
    {
     "data": {
      "image/png": "[encoded data removed]",
      "text/plain": [
       "<Figure size 432x288 with 1 Axes>"
      ]
     },
     "metadata": {
      "needs_background": "light"
     },
     "output_type": "display_data"
    }
   ],
   "source": [
    "init_trips_0 = df[df['active']==0].groupby('avg_dist')['avg_dist'].agg('count').sort_index()\n",
    "init_trips_0_cdf = init_trips_0.cumsum()\n",
    "init_trips_0_cdf = init_trips_0_cdf/init_trips_0_cdf.max()\n",
    "init_trips_1 = df[df['active']==1].groupby('avg_dist')['avg_dist'].agg('count').sort_index()\n",
    "init_trips_1_cdf = init_trips_1.cumsum()\n",
    "init_trips_1_cdf = init_trips_1_cdf/init_trips_1_cdf.max()\n",
    "plt.plot(init_trips_0_cdf, label='inactive')\n",
    "plt.plot(init_trips_1_cdf, label='active')\n",
    "plt.xlabel('average distance')\n",
    "plt.ylabel('CDF')\n",
    "plt.legend();"
   ]
  },
  {
   "cell_type": "markdown",
   "metadata": {},
   "source": [
    "## EDA summary\n",
    "1. city\t- important variable, ~1/4 of Astapor users areactive, while >1/2 of King's lanfding users are active, although this city also has the lowest number of subscribers, ~1/3 of Winterfell users are active, this city also has the largest number of subscribers.\n",
    "2. trips_in_first_30_days - important variable; 90% of inactive users take up to 3 trips in the first 30 days, while 90% of active users take up to 8 trips in the same timeframe\t\n",
    "3. avg_rating_of_driver\t- doesn't look important, distributions are similar with active and inactive users\n",
    "4. avg_surge - 50% of active users took rides without surcharge, while 80% of inactive users took rides wihout surcharge, it seams that, on average, active users mind the surcharge less than inactive users. Interestingly, the remaining 20% of inactive users took rides with more surcharge tham the remaining 50% of active users, so while half of active users did not mind the surcharge, they prefered smaller surcharge.\t\n",
    "5. phone - important 21% of Android users are active and 45% of iPhone users are active, overall more iPhone users.\t\n",
    "6. surge_pct - this is related to average surcharge and is redundant\t\n",
    "7. ultimate_black_user - looks important; 50% of ultimate black users are active, 30% of non-users are active, although there are a lot more people that do not use the service.\n",
    "8. weekday_pct - the two distributions are different, 25% of inactive users only used the service on weekends, while ~50% used the service exclusively on weekdays. While for active users there are representative customers in all buckets of weekday use. One reason for such uneven distribution of inactive users could be that those people where one offs, used the service once during a weekend or a weekend and then stopped using the service all together.\n",
    "9. avg_dist\t- almost identical, the incactive users traveld slightly longer distances than active users\n",
    "10. avg_rating_by_driver - doesn't look important, distributions are similar with active and inactive users"
   ]
  },
  {
   "cell_type": "code",
   "execution_count": 77,
   "metadata": {},
   "outputs": [
    {
     "name": "stdout",
     "output_type": "stream",
     "text": [
      "<class 'pandas.core.frame.DataFrame'>\n",
      "RangeIndex: 50000 entries, 0 to 49999\n",
      "Data columns (total 14 columns):\n",
      " #   Column                  Non-Null Count  Dtype         \n",
      "---  ------                  --------------  -----         \n",
      " 0   city                    50000 non-null  object        \n",
      " 1   trips_in_first_30_days  50000 non-null  int64         \n",
      " 2   signup_date             50000 non-null  datetime64[ns]\n",
      " 3   avg_rating_of_driver    41878 non-null  float64       \n",
      " 4   avg_surge               50000 non-null  float64       \n",
      " 5   last_trip_date          50000 non-null  datetime64[ns]\n",
      " 6   phone                   49604 non-null  object        \n",
      " 7   surge_pct               50000 non-null  float64       \n",
      " 8   ultimate_black_user     50000 non-null  bool          \n",
      " 9   weekday_pct             50000 non-null  float64       \n",
      " 10  avg_dist                50000 non-null  float64       \n",
      " 11  avg_rating_by_driver    49799 non-null  float64       \n",
      " 12  days_since_last_trip    50000 non-null  int64         \n",
      " 13  active                  50000 non-null  float64       \n",
      "dtypes: bool(1), datetime64[ns](2), float64(7), int64(2), object(2)\n",
      "memory usage: 5.0+ MB\n"
     ]
    }
   ],
   "source": [
    "df.info()"
   ]
  },
  {
   "cell_type": "code",
   "execution_count": 76,
   "metadata": {},
   "outputs": [
    {
     "data": {
      "text/plain": [
       "Index(['city', 'trips_in_first_30_days', 'signup_date', 'avg_rating_of_driver',\n",
       "       'avg_surge', 'last_trip_date', 'phone', 'surge_pct',\n",
       "       'ultimate_black_user', 'weekday_pct', 'avg_dist',\n",
       "       'avg_rating_by_driver', 'days_since_last_trip', 'active'],\n",
       "      dtype='object')"
      ]
     },
     "execution_count": 76,
     "metadata": {},
     "output_type": "execute_result"
    }
   ],
   "source": [
    "df.columns"
   ]
  },
  {
   "cell_type": "code",
   "execution_count": 139,
   "metadata": {},
   "outputs": [
    {
     "name": "stdout",
     "output_type": "stream",
     "text": [
      "(50000, 11)\n",
      "(50000,)\n"
     ]
    },
    {
     "data": {
      "text/html": [
       "<div>\n",
       "<style scoped>\n",
       "    .dataframe tbody tr th:only-of-type {\n",
       "        vertical-align: middle;\n",
       "    }\n",
       "\n",
       "    .dataframe tbody tr th {\n",
       "        vertical-align: top;\n",
       "    }\n",
       "\n",
       "    .dataframe thead th {\n",
       "        text-align: right;\n",
       "    }\n",
       "</style>\n",
       "<table border=\"1\" class=\"dataframe\">\n",
       "  <thead>\n",
       "    <tr style=\"text-align: right;\">\n",
       "      <th></th>\n",
       "      <th>trips_in_first_30_days</th>\n",
       "      <th>avg_rating_of_driver</th>\n",
       "      <th>avg_surge</th>\n",
       "      <th>surge_pct</th>\n",
       "      <th>weekday_pct</th>\n",
       "      <th>avg_dist</th>\n",
       "      <th>avg_rating_by_driver</th>\n",
       "      <th>city_King's Landing</th>\n",
       "      <th>city_Winterfell</th>\n",
       "      <th>phone_iPhone</th>\n",
       "      <th>ultimate_black_user_True</th>\n",
       "    </tr>\n",
       "  </thead>\n",
       "  <tbody>\n",
       "    <tr>\n",
       "      <th>0</th>\n",
       "      <td>4</td>\n",
       "      <td>4.7</td>\n",
       "      <td>1.10</td>\n",
       "      <td>15.4</td>\n",
       "      <td>46.2</td>\n",
       "      <td>3.67</td>\n",
       "      <td>5.0</td>\n",
       "      <td>1</td>\n",
       "      <td>0</td>\n",
       "      <td>1</td>\n",
       "      <td>1</td>\n",
       "    </tr>\n",
       "    <tr>\n",
       "      <th>1</th>\n",
       "      <td>0</td>\n",
       "      <td>5.0</td>\n",
       "      <td>1.00</td>\n",
       "      <td>0.0</td>\n",
       "      <td>50.0</td>\n",
       "      <td>8.26</td>\n",
       "      <td>5.0</td>\n",
       "      <td>0</td>\n",
       "      <td>0</td>\n",
       "      <td>0</td>\n",
       "      <td>0</td>\n",
       "    </tr>\n",
       "    <tr>\n",
       "      <th>2</th>\n",
       "      <td>3</td>\n",
       "      <td>4.3</td>\n",
       "      <td>1.00</td>\n",
       "      <td>0.0</td>\n",
       "      <td>100.0</td>\n",
       "      <td>0.77</td>\n",
       "      <td>5.0</td>\n",
       "      <td>0</td>\n",
       "      <td>0</td>\n",
       "      <td>1</td>\n",
       "      <td>0</td>\n",
       "    </tr>\n",
       "    <tr>\n",
       "      <th>3</th>\n",
       "      <td>9</td>\n",
       "      <td>4.6</td>\n",
       "      <td>1.14</td>\n",
       "      <td>20.0</td>\n",
       "      <td>80.0</td>\n",
       "      <td>2.36</td>\n",
       "      <td>4.9</td>\n",
       "      <td>1</td>\n",
       "      <td>0</td>\n",
       "      <td>1</td>\n",
       "      <td>1</td>\n",
       "    </tr>\n",
       "    <tr>\n",
       "      <th>4</th>\n",
       "      <td>14</td>\n",
       "      <td>4.4</td>\n",
       "      <td>1.19</td>\n",
       "      <td>11.8</td>\n",
       "      <td>82.4</td>\n",
       "      <td>3.13</td>\n",
       "      <td>4.9</td>\n",
       "      <td>0</td>\n",
       "      <td>1</td>\n",
       "      <td>0</td>\n",
       "      <td>0</td>\n",
       "    </tr>\n",
       "  </tbody>\n",
       "</table>\n",
       "</div>"
      ],
      "text/plain": [
       "   trips_in_first_30_days  avg_rating_of_driver  avg_surge  surge_pct  \\\n",
       "0                       4                   4.7       1.10       15.4   \n",
       "1                       0                   5.0       1.00        0.0   \n",
       "2                       3                   4.3       1.00        0.0   \n",
       "3                       9                   4.6       1.14       20.0   \n",
       "4                      14                   4.4       1.19       11.8   \n",
       "\n",
       "   weekday_pct  avg_dist  avg_rating_by_driver  city_King's Landing  \\\n",
       "0         46.2      3.67                   5.0                    1   \n",
       "1         50.0      8.26                   5.0                    0   \n",
       "2        100.0      0.77                   5.0                    0   \n",
       "3         80.0      2.36                   4.9                    1   \n",
       "4         82.4      3.13                   4.9                    0   \n",
       "\n",
       "   city_Winterfell  phone_iPhone  ultimate_black_user_True  \n",
       "0                0             1                         1  \n",
       "1                0             0                         0  \n",
       "2                0             1                         0  \n",
       "3                0             1                         1  \n",
       "4                1             0                         0  "
      ]
     },
     "execution_count": 139,
     "metadata": {},
     "output_type": "execute_result"
    }
   ],
   "source": [
    "# data processing steps \n",
    "# 1. impute the mode of the column for missing values\n",
    "df['avg_rating_of_driver'].fillna(df['avg_rating_of_driver'].mean(), inplace=True)\n",
    "df['phone'].fillna(df['phone'].mode()[0], inplace=True)\n",
    "df['avg_rating_by_driver'].fillna(df['avg_rating_by_driver'].mean(), inplace=True)\n",
    "\n",
    "# 2. use standard scaler to normalize numerical values\n",
    "numerical_cols = ['trips_in_first_30_days', 'avg_rating_of_driver', 'avg_surge', 'surge_pct', 'weekday_pct', \\\n",
    "                  'avg_dist', 'avg_rating_by_driver']\n",
    "#from sklearn.preprocessing import StandardScaler\n",
    "#scaler = StandardScaler()\n",
    "#scaled_features = scaler.fit_transform(df[numerical_cols])\n",
    "#scaled_features = pd.DataFrame(scaled_features, columns=numerical_cols)\n",
    "scaled_features = df[numerical_cols]\n",
    "\n",
    "# 3. one-hot-encode categorical features\n",
    "categorical_cols = ['city', 'phone', 'ultimate_black_user']\n",
    "cat_encoded = pd.get_dummies(df[categorical_cols], prefix_sep='_', columns=categorical_cols, drop_first=True) \n",
    "\n",
    "# combine categorical and numerical features\n",
    "all_features = pd.concat([scaled_features, cat_encoded], axis=1)\n",
    "\n",
    "X=all_features.values\n",
    "y=df.active.values\n",
    "import numpy as np\n",
    "\n",
    "print(X.shape)\n",
    "print(y.shape)\n",
    "\n",
    "all_features.head()"
   ]
  },
  {
   "cell_type": "code",
   "execution_count": 196,
   "metadata": {},
   "outputs": [
    {
     "data": {
      "text/html": [
       "<div>\n",
       "<style scoped>\n",
       "    .dataframe tbody tr th:only-of-type {\n",
       "        vertical-align: middle;\n",
       "    }\n",
       "\n",
       "    .dataframe tbody tr th {\n",
       "        vertical-align: top;\n",
       "    }\n",
       "\n",
       "    .dataframe thead th {\n",
       "        text-align: right;\n",
       "    }\n",
       "</style>\n",
       "<table border=\"1\" class=\"dataframe\">\n",
       "  <thead>\n",
       "    <tr style=\"text-align: right;\">\n",
       "      <th></th>\n",
       "      <th>features</th>\n",
       "      <th>F scores</th>\n",
       "      <th>P values</th>\n",
       "    </tr>\n",
       "  </thead>\n",
       "  <tbody>\n",
       "    <tr>\n",
       "      <th>0</th>\n",
       "      <td>trips_in_first_30_days</td>\n",
       "      <td>2317.293863</td>\n",
       "      <td>0.000000e+00</td>\n",
       "    </tr>\n",
       "    <tr>\n",
       "      <th>1</th>\n",
       "      <td>avg_rating_of_driver</td>\n",
       "      <td>5.863525</td>\n",
       "      <td>1.546134e-02</td>\n",
       "    </tr>\n",
       "    <tr>\n",
       "      <th>2</th>\n",
       "      <td>avg_surge</td>\n",
       "      <td>0.555461</td>\n",
       "      <td>4.560984e-01</td>\n",
       "    </tr>\n",
       "    <tr>\n",
       "      <th>3</th>\n",
       "      <td>surge_pct</td>\n",
       "      <td>6.958853</td>\n",
       "      <td>8.343129e-03</td>\n",
       "    </tr>\n",
       "    <tr>\n",
       "      <th>4</th>\n",
       "      <td>weekday_pct</td>\n",
       "      <td>4.697940</td>\n",
       "      <td>3.020350e-02</td>\n",
       "    </tr>\n",
       "    <tr>\n",
       "      <th>5</th>\n",
       "      <td>avg_dist</td>\n",
       "      <td>434.124927</td>\n",
       "      <td>5.270976e-96</td>\n",
       "    </tr>\n",
       "    <tr>\n",
       "      <th>6</th>\n",
       "      <td>avg_rating_by_driver</td>\n",
       "      <td>35.797070</td>\n",
       "      <td>2.204618e-09</td>\n",
       "    </tr>\n",
       "    <tr>\n",
       "      <th>7</th>\n",
       "      <td>city_King's Landing</td>\n",
       "      <td>3693.587343</td>\n",
       "      <td>0.000000e+00</td>\n",
       "    </tr>\n",
       "    <tr>\n",
       "      <th>8</th>\n",
       "      <td>city_Winterfell</td>\n",
       "      <td>108.859430</td>\n",
       "      <td>1.850322e-25</td>\n",
       "    </tr>\n",
       "    <tr>\n",
       "      <th>9</th>\n",
       "      <td>phone_iPhone</td>\n",
       "      <td>2677.716941</td>\n",
       "      <td>0.000000e+00</td>\n",
       "    </tr>\n",
       "    <tr>\n",
       "      <th>10</th>\n",
       "      <td>ultimate_black_user_True</td>\n",
       "      <td>2193.386139</td>\n",
       "      <td>0.000000e+00</td>\n",
       "    </tr>\n",
       "  </tbody>\n",
       "</table>\n",
       "</div>"
      ],
      "text/plain": [
       "                    features     F scores      P values\n",
       "0     trips_in_first_30_days  2317.293863  0.000000e+00\n",
       "1       avg_rating_of_driver     5.863525  1.546134e-02\n",
       "2                  avg_surge     0.555461  4.560984e-01\n",
       "3                  surge_pct     6.958853  8.343129e-03\n",
       "4                weekday_pct     4.697940  3.020350e-02\n",
       "5                   avg_dist   434.124927  5.270976e-96\n",
       "6       avg_rating_by_driver    35.797070  2.204618e-09\n",
       "7        city_King's Landing  3693.587343  0.000000e+00\n",
       "8            city_Winterfell   108.859430  1.850322e-25\n",
       "9               phone_iPhone  2677.716941  0.000000e+00\n",
       "10  ultimate_black_user_True  2193.386139  0.000000e+00"
      ]
     },
     "execution_count": 196,
     "metadata": {},
     "output_type": "execute_result"
    }
   ],
   "source": [
    "F, pval = f_classif(X, y)\n",
    "stat_summary = pd.DataFrame({'features':all_features.columns.tolist(), 'F scores':F, 'P values':pval})\n",
    "stat_summary"
   ]
  },
  {
   "cell_type": "code",
   "execution_count": 190,
   "metadata": {},
   "outputs": [
    {
     "name": "stdout",
     "output_type": "stream",
     "text": [
      "0.6700170176558179\n",
      "0.3299829823441821\n"
     ]
    }
   ],
   "source": [
    "# train test split\n",
    "from sklearn.model_selection import train_test_split\n",
    "X_train, X_test, y_train, y_test = train_test_split(X, y, test_size=0.33, random_state=2020, stratify=y)\n",
    "\n",
    "# confirm stratified split\n",
    "print(y_train.sum()/y.sum())\n",
    "print(y_test.sum()/y.sum())"
   ]
  },
  {
   "cell_type": "code",
   "execution_count": 191,
   "metadata": {},
   "outputs": [
    {
     "name": "stdout",
     "output_type": "stream",
     "text": [
      "[[ 1.22674518e-01 -6.44815372e-02 -1.75551602e-01  4.06748743e-03\n",
      "  -4.47694233e-04 -3.42774920e-02 -1.90128773e-01  1.64063315e+00\n",
      "   4.62576170e-01  1.06138403e+00  8.51443164e-01]]\n",
      "[-0.39547703]\n"
     ]
    }
   ],
   "source": [
    "from sklearn.linear_model import LogisticRegressionCV\n",
    "lrcv = LogisticRegressionCV(class_weight='balanced', n_jobs=-1, random_state=2020)\n",
    "lrcv.fit(X_train, y_train)\n",
    "print(lrcv.coef_)\n",
    "print(lrcv.intercept_)"
   ]
  },
  {
   "cell_type": "code",
   "execution_count": 197,
   "metadata": {},
   "outputs": [
    {
     "data": {
      "text/html": [
       "<div>\n",
       "<style scoped>\n",
       "    .dataframe tbody tr th:only-of-type {\n",
       "        vertical-align: middle;\n",
       "    }\n",
       "\n",
       "    .dataframe tbody tr th {\n",
       "        vertical-align: top;\n",
       "    }\n",
       "\n",
       "    .dataframe thead th {\n",
       "        text-align: right;\n",
       "    }\n",
       "</style>\n",
       "<table border=\"1\" class=\"dataframe\">\n",
       "  <thead>\n",
       "    <tr style=\"text-align: right;\">\n",
       "      <th></th>\n",
       "      <th>features</th>\n",
       "      <th>F scores</th>\n",
       "      <th>P values</th>\n",
       "      <th>weights</th>\n",
       "    </tr>\n",
       "  </thead>\n",
       "  <tbody>\n",
       "    <tr>\n",
       "      <th>0</th>\n",
       "      <td>trips_in_first_30_days</td>\n",
       "      <td>2317.293863</td>\n",
       "      <td>0.000000e+00</td>\n",
       "      <td>0.122675</td>\n",
       "    </tr>\n",
       "    <tr>\n",
       "      <th>1</th>\n",
       "      <td>avg_rating_of_driver</td>\n",
       "      <td>5.863525</td>\n",
       "      <td>1.546134e-02</td>\n",
       "      <td>-0.064482</td>\n",
       "    </tr>\n",
       "    <tr>\n",
       "      <th>2</th>\n",
       "      <td>avg_surge</td>\n",
       "      <td>0.555461</td>\n",
       "      <td>4.560984e-01</td>\n",
       "      <td>-0.175552</td>\n",
       "    </tr>\n",
       "    <tr>\n",
       "      <th>3</th>\n",
       "      <td>surge_pct</td>\n",
       "      <td>6.958853</td>\n",
       "      <td>8.343129e-03</td>\n",
       "      <td>0.004067</td>\n",
       "    </tr>\n",
       "    <tr>\n",
       "      <th>4</th>\n",
       "      <td>weekday_pct</td>\n",
       "      <td>4.697940</td>\n",
       "      <td>3.020350e-02</td>\n",
       "      <td>-0.000448</td>\n",
       "    </tr>\n",
       "    <tr>\n",
       "      <th>5</th>\n",
       "      <td>avg_dist</td>\n",
       "      <td>434.124927</td>\n",
       "      <td>5.270976e-96</td>\n",
       "      <td>-0.034277</td>\n",
       "    </tr>\n",
       "    <tr>\n",
       "      <th>6</th>\n",
       "      <td>avg_rating_by_driver</td>\n",
       "      <td>35.797070</td>\n",
       "      <td>2.204618e-09</td>\n",
       "      <td>-0.190129</td>\n",
       "    </tr>\n",
       "    <tr>\n",
       "      <th>7</th>\n",
       "      <td>city_King's Landing</td>\n",
       "      <td>3693.587343</td>\n",
       "      <td>0.000000e+00</td>\n",
       "      <td>1.640633</td>\n",
       "    </tr>\n",
       "    <tr>\n",
       "      <th>8</th>\n",
       "      <td>city_Winterfell</td>\n",
       "      <td>108.859430</td>\n",
       "      <td>1.850322e-25</td>\n",
       "      <td>0.462576</td>\n",
       "    </tr>\n",
       "    <tr>\n",
       "      <th>9</th>\n",
       "      <td>phone_iPhone</td>\n",
       "      <td>2677.716941</td>\n",
       "      <td>0.000000e+00</td>\n",
       "      <td>1.061384</td>\n",
       "    </tr>\n",
       "    <tr>\n",
       "      <th>10</th>\n",
       "      <td>ultimate_black_user_True</td>\n",
       "      <td>2193.386139</td>\n",
       "      <td>0.000000e+00</td>\n",
       "      <td>0.851443</td>\n",
       "    </tr>\n",
       "  </tbody>\n",
       "</table>\n",
       "</div>"
      ],
      "text/plain": [
       "                    features     F scores      P values   weights\n",
       "0     trips_in_first_30_days  2317.293863  0.000000e+00  0.122675\n",
       "1       avg_rating_of_driver     5.863525  1.546134e-02 -0.064482\n",
       "2                  avg_surge     0.555461  4.560984e-01 -0.175552\n",
       "3                  surge_pct     6.958853  8.343129e-03  0.004067\n",
       "4                weekday_pct     4.697940  3.020350e-02 -0.000448\n",
       "5                   avg_dist   434.124927  5.270976e-96 -0.034277\n",
       "6       avg_rating_by_driver    35.797070  2.204618e-09 -0.190129\n",
       "7        city_King's Landing  3693.587343  0.000000e+00  1.640633\n",
       "8            city_Winterfell   108.859430  1.850322e-25  0.462576\n",
       "9               phone_iPhone  2677.716941  0.000000e+00  1.061384\n",
       "10  ultimate_black_user_True  2193.386139  0.000000e+00  0.851443"
      ]
     },
     "execution_count": 197,
     "metadata": {},
     "output_type": "execute_result"
    }
   ],
   "source": [
    "weights = pd.Series(np.squeeze(lrcv.coef_))\n",
    "stat_summary = pd.concat([stat_summary, weights], axis=1)\n",
    "stat_summary.columns=['features', 'F scores','P values', 'weights']\n",
    "stat_summary"
   ]
  },
  {
   "cell_type": "code",
   "execution_count": 198,
   "metadata": {},
   "outputs": [
    {
     "name": "stdout",
     "output_type": "stream",
     "text": [
      "              precision    recall  f1-score   support\n",
      "\n",
      "         0.0       0.78      0.72      0.75     10295\n",
      "         1.0       0.59      0.67      0.63      6205\n",
      "\n",
      "    accuracy                           0.70     16500\n",
      "   macro avg       0.69      0.70      0.69     16500\n",
      "weighted avg       0.71      0.70      0.71     16500\n",
      "\n",
      "[[0.72054395 0.27945605]\n",
      " [0.32860596 0.67139404]]\n"
     ]
    }
   ],
   "source": [
    "y_pred = lrcv.predict(X_test)\n",
    "\n",
    "from sklearn.metrics import classification_report\n",
    "cr = classification_report(y_test, y_pred)\n",
    "print(cr)\n",
    "\n",
    "from sklearn.metrics import confusion_matrix\n",
    "cm = confusion_matrix(y_test, y_pred, normalize='true')\n",
    "print(cm)"
   ]
  },
  {
   "cell_type": "code",
   "execution_count": 199,
   "metadata": {
    "scrolled": true
   },
   "outputs": [
    {
     "data": {
      "image/png": "[encoded data removed]",
      "text/plain": [
       "<Figure size 432x288 with 1 Axes>"
      ]
     },
     "metadata": {
      "needs_background": "light"
     },
     "output_type": "display_data"
    }
   ],
   "source": [
    "from sklearn.metrics import roc_curve, auc\n",
    "y_prob = lrcv.predict_proba(X_test)\n",
    "fpr, tpr, _ = roc_curve(y_test, y_prob[:,1])\n",
    "roc_auc=auc(fpr, tpr)\n",
    "\n",
    "plt.plot(fpr, tpr, label='ROC curve: area = %0.2f' % roc_auc)\n",
    "plt.plot([0, 1], [0, 1], linestyle='--')\n",
    "plt.xlim([0.0, 1.0])\n",
    "plt.ylim([0.0, 1.05])\n",
    "plt.xlabel('False Positive Rate')\n",
    "plt.ylabel('True Positive Rate')\n",
    "plt.title('Receiver operating characteristic')\n",
    "plt.legend(loc=\"lower right\")\n",
    "plt.show()"
   ]
  },
  {
   "cell_type": "markdown",
   "metadata": {},
   "source": [
    "## Summary of predictive modeling\n",
    "I included all the identified features (see EDA) in the analysis since ANOVA analysis demonstrated feature mean values were significantly diffrent between active and inactive subscribers for all features at a significance level 0.05. Next, I picked logistic regression for prediction since its coefficients (feature weights) are easily interpretable and can provide insights for improving retention. I split the data into 70% train and 30% test. I performed training with 5-fold cross-validation on the training set and evaluated the results on the test set.\n",
    "\n",
    "### Results\n",
    "The model has 70% accuracy in predicting the subscribers activity status after 6 months, with are under receiver operating characteristic of 0.76. Since active users comprise ~1/3 of the dataset, the labels are not heavily imbalanced, hence accuracy and AROC are reasonable metrics for performance evaluation.\n",
    "\n",
    "### Takeaways from the model\n",
    "The features with larset weights are: city_King's Landing, phone_iPhone, ultimate_black_user_True. To improve customer retention it is probably worth looking into reasons why those features have larger contributions.\n",
    "city_King's Landing - Is there a large proportion of wealthier individuals? Are there less car ownership (urban)? Is local marketing different for this city? If King's landing is largely urban, it is worth replicating this sucsess in other similar cities.\n",
    "phone_iPhone - is there a substaintial difference in the performacnce of altimate app on different mobile devices? Perhaps android users are having a bad experience? Perhaps reaching out to android users and asking for feedback may help improve the android app and increase subscriber retention.\n",
    "ultimate_black_user_True - it looks like subscribers using the ultimate black car service in the first 30 days of subscription are more likely to stay active. Perhaps the company can use incentives to encouradge the black car service use in the first 30 days. This also aligns with the observation that the largest proportion of customers drop out within the first month. Hence, in general, encouraging the service use in the first month might be beneficial for increasing customer retention.\n",
    "\n",
    "### Risks\n",
    "It is possibe that there are seasonal variations affecting the current model. For example, people sign up in January, when it is cold and as the weather warms up, they use the service less. Replicting the model on a summer cohort will provide more confidence in its generalizability."
   ]
  },
  {
   "cell_type": "code",
   "execution_count": null,
   "metadata": {},
   "outputs": [],
   "source": []
  }
 ],
 "metadata": {
  "kernelspec": {
   "display_name": "Python 3",
   "language": "python",
   "name": "python3"
  },
  "language_info": {
   "codemirror_mode": {
    "name": "ipython",
    "version": 3
   },
   "file_extension": ".py",
   "mimetype": "text/x-python",
   "name": "python",
   "nbconvert_exporter": "python",
   "pygments_lexer": "ipython3",
   "version": "3.8.0"
  }
 },
 "nbformat": 4,
 "nbformat_minor": 4
}
